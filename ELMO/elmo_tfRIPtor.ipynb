{
 "cells": [
  {
   "cell_type": "code",
   "execution_count": null,
   "metadata": {},
   "outputs": [],
   "source": [
    "import tensorflow as tf\n",
    "import tensorflow_hub as hub\n",
    "import pickle\n",
    "import os\n",
    "import pandas as pd\n",
    "import numpy as np\n",
    "print(tf.__version__)"
   ]
  },
  {
   "cell_type": "code",
   "execution_count": null,
   "metadata": {},
   "outputs": [],
   "source": [
    "elmo = hub.Module(\"https://tfhub.dev/google/elmo/3\")\n",
    "\n",
    "# signature default is basically not tokenized\n",
    "# embeddings = elmo(['Emily ate a lot of pi'], signature=\"default\", as_dict=True)\n",
    "# default is basically the sum of the vectors\n",
    "# embeddings['default']"
   ]
  },
  {
   "cell_type": "code",
   "execution_count": null,
   "metadata": {},
   "outputs": [],
   "source": [
    "# signature default is basically not tokenized\n",
    "embeddings = elmo(['Emily ate a lot of pi'], signature=\"default\", as_dict=True)\n",
    "# default is basically the sum of the vectors\n",
    "# embeddings['default']"
   ]
  },
  {
   "cell_type": "code",
   "execution_count": null,
   "metadata": {},
   "outputs": [],
   "source": [
    "def elmo_vectors(x):\n",
    "    embeddings = elmo(x.tolist(), signature=\"default\", as_dict=True)[\"elmo\"]\n",
    "\n",
    "    with tf.Session() as sess:\n",
    "        sess.run(tf.global_variables_initializer())\n",
    "        sess.run(tf.tables_initializer())\n",
    "        # return average of ELMo features\n",
    "        return sess.run(tf.reduce_mean(embeddings,1))"
   ]
  },
  {
   "cell_type": "code",
   "execution_count": null,
   "metadata": {},
   "outputs": [],
   "source": [
    "a = tf.constant(5.0)\n",
    "b = tf.constant(6.0)\n",
    "c = a * b\n",
    "sess = tf.compat.v1.keras.backend.get_session()\n",
    "\n",
    "sess.run(c)"
   ]
  },
  {
   "cell_type": "code",
   "execution_count": null,
   "metadata": {},
   "outputs": [],
   "source": [
    "elmo_vectors(embeddings['default'])"
   ]
  },
  {
   "cell_type": "code",
   "execution_count": 6,
   "metadata": {},
   "outputs": [],
   "source": [
    "nyt_df = pd.DataFrame(pd.read_pickle('../../NYTcorpus_updated.p'))"
   ]
  },
  {
   "cell_type": "code",
   "execution_count": 9,
   "metadata": {},
   "outputs": [],
   "source": [
    "nyt_df = pd.DataFrame(nyt_df)"
   ]
  },
  {
   "cell_type": "code",
   "execution_count": 11,
   "metadata": {},
   "outputs": [
    {
     "data": {
      "text/plain": [
       "0          LEAD: *3*** COMPANY REPORTS ** *3*MARSH & MCLE...\n",
       "1          LEAD: *3*** COMPANY REPORTS ** *3*NORTHERN IND...\n",
       "2          LEAD: Cadbury Schweppes P.L.C., the soft-drink...\n",
       "3          LEAD: *3*** COMPANY REPORTS ** *3*GENERAL EMPL...\n",
       "4          LEAD: *3*** COMPANY REPORTS ** *3*POTLATCH COR...\n",
       "                                 ...                        \n",
       "1855653                                                     \n",
       "1855654    Many American food products are a mix of globa...\n",
       "1855655    Even considering the odd manner in which polit...\n",
       "1855656    The preacher at the main mosque here in the Pa...\n",
       "1855657    A year after President Bush and Secretary of S...\n",
       "Name: 2, Length: 1855658, dtype: object"
      ]
     },
     "execution_count": 11,
     "metadata": {},
     "output_type": "execute_result"
    }
   ],
   "source": [
    "nyt_df[2]"
   ]
  },
  {
   "cell_type": "code",
   "execution_count": 12,
   "metadata": {},
   "outputs": [
    {
     "ename": "TypeError",
     "evalue": "'AutoTrackable' object is not callable",
     "output_type": "error",
     "traceback": [
      "\u001b[0;31m---------------------------------------------------------------------------\u001b[0m",
      "\u001b[0;31mTypeError\u001b[0m                                 Traceback (most recent call last)",
      "\u001b[0;32m<ipython-input-12-00a4b20cb0af>\u001b[0m in \u001b[0;36m<module>\u001b[0;34m\u001b[0m\n\u001b[0;32m----> 1\u001b[0;31m \u001b[0mnyt_embeddings\u001b[0m \u001b[0;34m=\u001b[0m \u001b[0melmo\u001b[0m\u001b[0;34m(\u001b[0m\u001b[0mnyt_df\u001b[0m\u001b[0;34m[\u001b[0m\u001b[0;36m2\u001b[0m\u001b[0;34m]\u001b[0m\u001b[0;34m,\u001b[0m \u001b[0msignature\u001b[0m\u001b[0;34m=\u001b[0m\u001b[0;34m\"default\"\u001b[0m\u001b[0;34m,\u001b[0m \u001b[0mas_dict\u001b[0m\u001b[0;34m=\u001b[0m\u001b[0;32mTrue\u001b[0m\u001b[0;34m)\u001b[0m\u001b[0;34m\u001b[0m\u001b[0;34m\u001b[0m\u001b[0m\n\u001b[0m",
      "\u001b[0;31mTypeError\u001b[0m: 'AutoTrackable' object is not callable"
     ]
    }
   ],
   "source": [
    "nyt_embeddings = elmo(nyt_df[2], signature=\"default\", as_dict=True)"
   ]
  },
  {
   "cell_type": "code",
   "execution_count": null,
   "metadata": {},
   "outputs": [
    {
     "name": "stderr",
     "output_type": "stream",
     "text": [
      "IOPub data rate exceeded.\n",
      "The notebook server will temporarily stop sending output\n",
      "to the client in order to avoid crashing it.\n",
      "To change this limit, set the config variable\n",
      "`--NotebookApp.iopub_data_rate_limit`.\n",
      "\n",
      "Current values:\n",
      "NotebookApp.iopub_data_rate_limit=1000000.0 (bytes/sec)\n",
      "NotebookApp.rate_limit_window=3.0 (secs)\n",
      "\n"
     ]
    }
   ],
   "source": [
    "corpusdir=\"../\", \n",
    "# corpusfile=\"NYTcorpus_updated.p\"\n",
    "\n",
    "# load the whole corpus\n",
    "# with open(corpusdir + corpusfile, \"rb\") as corpus:\n",
    "with open(\"../NYTcorpus.p\", \"rb\") as corpus:\n",
    "    all_data = pickle.load(corpus)\n",
    "    print(\"Loaded corpus!\\n\")\n",
    "    data = []\n",
    "    labels = []\n",
    "    l = len(all_data)\n",
    "    for i in range(0, l): # memory errors rip\n",
    "        article = all_data[i][2]\n",
    "        print(article)\n",
    "        # # tokenize each article\n",
    "        # data.append(TaggedDocument(list(tokenize(article)), [i])) # article text\n",
    "        # labels.append(all_data[i][3:]) # article labels"
   ]
  },
  {
   "cell_type": "code",
   "execution_count": null,
   "metadata": {},
   "outputs": [],
   "source": [
    "def embed_p(corpusdir=\"../../\", \n",
    "            corpusfile=\"NYTcorpus_updated.p\", \n",
    "            logfile=\"log.txt\", \n",
    "            outfile=\"embedded_100%.p\", \n",
    "            labelfile=\"binarylabels_100%.p\", \n",
    "            labeldictfile=\"labelsdict_100%.p\"):\n",
    "    # embed each article in a pickle format corpus into a singular vector using vocabfile as the vocabulary\n",
    "    # the format of the corpus is assumed to be the same as NYTcorpus.p\n",
    "\n",
    "    f = open(logfile, 'a+')\n",
    "    f.write(\"DOC2VEC_EMBED_P\\n\")\n",
    "    try:\n",
    "        # load the whole corpus\n",
    "        with open(corpusdir + corpusfile, \"rb\") as corpus:\n",
    "            all_data = pickle.load(corpus)\n",
    "            f.write(\"Loaded corpus!\\n\")\n",
    "            data = []\n",
    "            labels = []\n",
    "            l = len(all_data)\n",
    "            for i in range(0, l): # memory errors rip\n",
    "                article = all_data[i][2]\n",
    "                # tokenize each article\n",
    "                data.append(TaggedDocument(list(tokenize(article)), [i])) # article text\n",
    "                labels.append(all_data[i][3:]) # article labels\n",
    "            label_matrix, label_dict = transform_labels(labels) # make labels binary\n",
    "        f.write(\"Words are tokenized\\n\")\n",
    "\n",
    "        # transform data by doc2vec\n",
    "        model = Doc2Vec(data, vector_size=100, window=5, workers=12, epochs=10)\n",
    "        model.delete_temporary_training_data(keep_doctags_vectors=True, keep_inference=True)\n",
    "        vec_data = []\n",
    "        for i in range(0, l):\n",
    "            vec_data.append(model.docvecs[i])\n",
    "\n",
    "        # transform the test data by tf_idf as well\n",
    "        f.write(\"Doc2Vec done\\n\")\n",
    "\n",
    "        # save the results into pickle files\n",
    "        with open(outfile, \"wb\") as out:\n",
    "            pickle.dump(vec_data, out)\n",
    "            f.write(\"Dumped data output at \" + outfile + \"\\n\")\n",
    "        \n",
    "        with open(labelfile, \"wb\") as label:\n",
    "            pickle.dump(label_matrix, label)\n",
    "            f.write(\"Dumped label output at \" + labelfile + \"\\n\")\n",
    "\n",
    "        with open(labeldictfile, \"wb\") as labeldict:\n",
    "            pickle.dump(label_dict, labeldict)\n",
    "            f.write(\"Dumped label dictionary at \" + labeldictfile + \"\\n\")\n",
    "        \n",
    "    except Exception:\n",
    "        traceback.print_exc(file=f)\n",
    "\n",
    "    f.close()"
   ]
  }
 ],
 "metadata": {
  "kernelspec": {
   "display_name": "Python [conda env:.conda-mltf]",
   "language": "python",
   "name": "conda-env-.conda-mltf-py"
  },
  "language_info": {
   "codemirror_mode": {
    "name": "ipython",
    "version": 3
   },
   "file_extension": ".py",
   "mimetype": "text/x-python",
   "name": "python",
   "nbconvert_exporter": "python",
   "pygments_lexer": "ipython3",
   "version": "3.7.7"
  }
 },
 "nbformat": 4,
 "nbformat_minor": 4
}
