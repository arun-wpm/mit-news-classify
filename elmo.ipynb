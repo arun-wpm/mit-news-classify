{
 "cells": [
  {
   "cell_type": "code",
   "execution_count": 1,
   "metadata": {},
   "outputs": [],
   "source": [
    "import tensorflow as tf\n",
    "import tensorflow_hub as hub\n",
    "print(tf.__version__)\n",
    "\n",
    "elmo = hub.Module(\"https://tfhub.dev/google/elmo/3\", trainable=True)\n"
   ]
  },
  {
   "cell_type": "code",
   "execution_count": 4,
   "metadata": {},
   "outputs": [
    {
     "name": "stdout",
     "output_type": "stream",
     "text": [
      "INFO:tensorflow:Saver not created because there are no variables in the graph to restore\n"
     ]
    },
    {
     "name": "stderr",
     "output_type": "stream",
     "text": [
      "INFO:tensorflow:Saver not created because there are no variables in the graph to restore\n"
     ]
    }
   ],
   "source": [
    "# default repre\n",
    "embeddings = elmo(['Emily ate a lot of pi'], signature=\"default\", as_dict=True)"
   ]
  },
  {
   "cell_type": "code",
   "execution_count": 5,
   "metadata": {},
   "outputs": [
    {
     "data": {
      "text/plain": [
       "{'lstm_outputs2': <tf.Tensor 'module_apply_default_1/concat_1:0' shape=(1, ?, 1024) dtype=float32>,\n",
       " 'sequence_len': <tf.Tensor 'module_apply_default_1/Sum:0' shape=(1,) dtype=int32>,\n",
       " 'lstm_outputs1': <tf.Tensor 'module_apply_default_1/concat:0' shape=(1, 6, 1024) dtype=float32>,\n",
       " 'elmo': <tf.Tensor 'module_apply_default_1/aggregation/mul_3:0' shape=(1, 6, 1024) dtype=float32>,\n",
       " 'default': <tf.Tensor 'module_apply_default_1/truediv:0' shape=(1, 1024) dtype=float32>,\n",
       " 'word_emb': <tf.Tensor 'module_apply_default_1/bilm/Reshape_1:0' shape=(1, 6, 512) dtype=float32>}"
      ]
     },
     "execution_count": 5,
     "metadata": {},
     "output_type": "execute_result"
    }
   ],
   "source": [
    "embeddings"
   ]
  },
  {
   "cell_type": "code",
   "execution_count": 6,
   "metadata": {},
   "outputs": [
    {
     "data": {
      "text/plain": [
       "<tf.Tensor 'module_apply_default_1/truediv:0' shape=(1, 1024) dtype=float32>"
      ]
     },
     "execution_count": 6,
     "metadata": {},
     "output_type": "execute_result"
    }
   ],
   "source": [
    "embeddings['default']"
   ]
  },
  {
   "cell_type": "code",
   "execution_count": null,
   "metadata": {},
   "outputs": [],
   "source": [
    "def embed_p(corpusdir=\"../../\", \n",
    "            corpusfile=\"NYTcorpus_updated.p\", \n",
    "            logfile=\"log.txt\", \n",
    "            outfile=\"embedded_100%.p\", \n",
    "            labelfile=\"binarylabels_100%.p\", \n",
    "            labeldictfile=\"labelsdict_100%.p\"):\n",
    "    # embed each article in a pickle format corpus into a singular vector using vocabfile as the vocabulary\n",
    "    # the format of the corpus is assumed to be the same as NYTcorpus.p\n",
    "\n",
    "    f = open(logfile, 'a+')\n",
    "    f.write(\"DOC2VEC_EMBED_P\\n\")\n",
    "    try:\n",
    "        # load the whole corpus\n",
    "        with open(corpusdir + corpusfile, \"rb\") as corpus:\n",
    "            all_data = pickle.load(corpus)\n",
    "            f.write(\"Loaded corpus!\\n\")\n",
    "            data = []\n",
    "            labels = []\n",
    "            l = len(all_data)\n",
    "            for i in range(0, l): # memory errors rip\n",
    "                article = all_data[i][2]\n",
    "                # tokenize each article\n",
    "                data.append(TaggedDocument(list(tokenize(article)), [i])) # article text\n",
    "                labels.append(all_data[i][3:]) # article labels\n",
    "            label_matrix, label_dict = transform_labels(labels) # make labels binary\n",
    "        f.write(\"Words are tokenized\\n\")\n",
    "\n",
    "        # transform data by doc2vec\n",
    "        model = Doc2Vec(data, vector_size=100, window=5, workers=12, epochs=10)\n",
    "        model.delete_temporary_training_data(keep_doctags_vectors=True, keep_inference=True)\n",
    "        vec_data = []\n",
    "        for i in range(0, l):\n",
    "            vec_data.append(model.docvecs[i])\n",
    "\n",
    "        # transform the test data by tf_idf as well\n",
    "        f.write(\"Doc2Vec done\\n\")\n",
    "\n",
    "        # save the results into pickle files\n",
    "        with open(outfile, \"wb\") as out:\n",
    "            pickle.dump(vec_data, out)\n",
    "            f.write(\"Dumped data output at \" + outfile + \"\\n\")\n",
    "        \n",
    "        with open(labelfile, \"wb\") as label:\n",
    "            pickle.dump(label_matrix, label)\n",
    "            f.write(\"Dumped label output at \" + labelfile + \"\\n\")\n",
    "\n",
    "        with open(labeldictfile, \"wb\") as labeldict:\n",
    "            pickle.dump(label_dict, labeldict)\n",
    "            f.write(\"Dumped label dictionary at \" + labeldictfile + \"\\n\")\n",
    "        \n",
    "    except Exception:\n",
    "        traceback.print_exc(file=f)\n",
    "\n",
    "    f.close()"
   ]
  }
 ],
 "metadata": {
  "kernelspec": {
   "display_name": "Python [conda env:.conda-ml] *",
   "language": "python",
   "name": "conda-env-.conda-ml-py"
  },
  "language_info": {
   "codemirror_mode": {
    "name": "ipython",
    "version": 3
   },
   "file_extension": ".py",
   "mimetype": "text/x-python",
   "name": "python",
   "nbconvert_exporter": "python",
   "pygments_lexer": "ipython3",
   "version": "3.7.7"
  }
 },
 "nbformat": 4,
 "nbformat_minor": 4
}
